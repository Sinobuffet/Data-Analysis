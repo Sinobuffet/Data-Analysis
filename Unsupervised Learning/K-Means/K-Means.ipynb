{
 "cells": [
  {
   "cell_type": "markdown",
   "id": "bcaa877d",
   "metadata": {},
   "source": [
    "# K-Means"
   ]
  },
  {
   "cell_type": "markdown",
   "id": "3010cb5c",
   "metadata": {},
   "source": [
    "Common indicators for evaluating clustering\n",
    "\n",
    "* Rand index\n",
    "* Mutual Information (MI)\n",
    "* Homogenization Score\n",
    "* completeness score\n",
    "* v_meansure_score\n",
    "* Silhouette\n",
    "* calinski-harabaz Index"
   ]
  },
  {
   "cell_type": "markdown",
   "id": "f06e3523",
   "metadata": {},
   "source": [
    "* Rand index: Suppose U is the external evaluation criterion, that is, true_label, and V is the clustering result. Set four statistics\n",
    "> a is the logarithm of data points that are of the same class in U and also of the same class in V\n",
    "> b is the logarithm of data points that belong to the same class in U but belong to different classes in V\n",
    "> c is the log of data points that are not in the same class in U but are in the same class in V\n",
    "> d is the logarithm of data points that are not in the same class in U and not in the same class in V\n",
    "\n",
    "$ART = \\frac{a+d}{a+b+c+d}$"
   ]
  },
  {
   "cell_type": "markdown",
   "id": "8b42d90e",
   "metadata": {},
   "source": [
    "* Silhouette coefficient: It is suitable for the case where the actual category information is unknown, and is used to calculate the average silhouette coefficient of all samples. For a single sample, let a be the average distance between the sample and other samples in the same class, and b be the average distance from the samples in the different classes that are closest to it.\n",
    "\n",
    "$s(i) = \\frac{b-a}{max(a,b)}$"
   ]
  },
  {
   "cell_type": "markdown",
   "id": "21c02360",
   "metadata": {},
   "source": [
    "* K :Elbow method\n",
    "\n",
    "The optimal solution of the `K_means` parameter is to minimize the cost function. The cost function is the sum of the degree of distortion of each class. The degree of distortion of each class is equal to the sum of the squares of the distance between the center of gravity of the class and its internal members, but the average degree of distortion will vary with With the increase of `K`, it first decreases and then increases, so the minimum average distortion degree can be obtained."
   ]
  },
  {
   "cell_type": "markdown",
   "id": "d6575b1f",
   "metadata": {},
   "source": [
    "## Start analyzing the wine dataset"
   ]
  },
  {
   "cell_type": "code",
   "execution_count": 11,
   "id": "4fc1d81c",
   "metadata": {},
   "outputs": [],
   "source": [
    "import numpy as np\n",
    "import matplotlib.pyplot as plt\n",
    "from sklearn.cluster import KMeans\n",
    "from sklearn import preprocessing\n",
    "from scipy.spatial.distance import cdist\n",
    "from sklearn import metrics"
   ]
  },
  {
   "cell_type": "markdown",
   "id": "daa468f9",
   "metadata": {},
   "source": [
    "Data input"
   ]
  },
  {
   "cell_type": "code",
   "execution_count": 12,
   "id": "78f59cd5",
   "metadata": {},
   "outputs": [],
   "source": [
    "X = []\n",
    "y_true = []\n",
    "id = []\n",
    "\n",
    "f = open('wine.data')\n",
    "for line in f:\n",
    "    y = []\n",
    "    for index,item in enumerate(line.split(\",\")):\n",
    "        if index == 0:\n",
    "            id.append(int(item))\n",
    "            continue\n",
    "        y.append(float(item))\n",
    "    X.append(y)\n",
    "X = np.array(X)\n",
    "y_true = np.array(id)\n",
    "\n",
    "\n",
    "min_max_scaler = preprocessing.MinMaxScaler()\n",
    "X = min_max_scaler.fit_transform(X)"
   ]
  },
  {
   "cell_type": "code",
   "execution_count": 20,
   "id": "d0033c4a",
   "metadata": {},
   "outputs": [
    {
     "name": "stderr",
     "output_type": "stream",
     "text": [
      "C:\\Users\\Zixi Wang\\anaconda3\\lib\\site-packages\\sklearn\\cluster\\_kmeans.py:881: UserWarning: KMeans is known to have a memory leak on Windows with MKL, when there are less chunks than available threads. You can avoid it by setting the environment variable OMP_NUM_THREADS=1.\n",
      "  warnings.warn(\n"
     ]
    },
    {
     "data": {
      "image/png": "[encoded data removed]",
      "text/plain": [
       "<Figure size 432x288 with 1 Axes>"
      ]
     },
     "metadata": {
      "needs_background": "light"
     },
     "output_type": "display_data"
    }
   ],
   "source": [
    "K = range(1, 10)\n",
    "meandistortions = []\n",
    "for k in K:\n",
    "    kmeans = KMeans(n_clusters=k)\n",
    "    kmeans.fit(X)\n",
    "    meandistortions.append(sum(np.min(cdist(X, kmeans.cluster_centers_, 'euclidean'), axis=1)) / X.shape[0])\n",
    "plt.plot(K, meandistortions, 'bx-')\n",
    "plt.xlabel('k')\n",
    "plt.ylabel('meandistortions')\n",
    "plt.title('best K of the model');\n",
    "plt.show()"
   ]
  },
  {
   "cell_type": "code",
   "execution_count": 21,
   "id": "c4b8e9ff",
   "metadata": {},
   "outputs": [
    {
     "name": "stdout",
     "output_type": "stream",
     "text": [
      "Rand Index 0.8685425493202144\n",
      "Homogenization 0.8570247637781875\n",
      "Silhouette 0.30134632735032324\n"
     ]
    }
   ],
   "source": [
    "n_clusters = 3\n",
    "\n",
    "\n",
    "cls = KMeans(n_clusters).fit(X)\n",
    "y_pre = cls.predict(X)\n",
    "\n",
    "n_samples,n_features=X.shape     \n",
    "inertias = cls.inertia_  \n",
    "adjusted_rand_s=metrics.adjusted_rand_score(y_true,y_pre)          \n",
    "homogeneity_s=metrics.homogeneity_score(y_true,y_pre)               \n",
    "silhouette_s=metrics.silhouette_score(X,y_pre,metric='euclidean')  \n",
    "print(\"Rand Index\",adjusted_rand_s)\n",
    "print(\"Homogenization\",homogeneity_s)\n",
    "print(\"Silhouette\",silhouette_s)"
   ]
  },
  {
   "cell_type": "markdown",
   "id": "e33b24bf",
   "metadata": {},
   "source": [
    "Divide data of the same class into a subset of clusters, Display sample points within a subset of clusters"
   ]
  },
  {
   "cell_type": "code",
   "execution_count": 22,
   "id": "e9cd6d43",
   "metadata": {},
   "outputs": [
    {
     "data": {
      "image/png": "[encoded data removed]",
      "text/plain": [
       "<Figure size 432x288 with 1 Axes>"
      ]
     },
     "metadata": {
      "needs_background": "light"
     },
     "output_type": "display_data"
    }
   ],
   "source": [
    "centers=cls.cluster_centers_  \n",
    "\n",
    "colors=['#ff0000','#00ff00','#0000ff']  \n",
    "plt.figure()    \n",
    "for i in range(n_clusters):    \n",
    "    index_sets=np.where(y_pre==i)  \n",
    "    cluster=X[index_sets]   #\n",
    "    plt.scatter(cluster[:,0],cluster[:,1],c=colors[i],marker='.')   \n",
    "    plt.plot(centers[i][0],centers[i][1],'*',markerfacecolor=colors[i],markeredgecolor='k',markersize=6)\n",
    "plt.show()\n"
   ]
  },
  {
   "cell_type": "code",
   "execution_count": null,
   "id": "c7803004",
   "metadata": {},
   "outputs": [],
   "source": []
  }
 ],
 "metadata": {
  "kernelspec": {
   "display_name": "Python 3 (ipykernel)",
   "language": "python",
   "name": "python3"
  },
  "language_info": {
   "codemirror_mode": {
    "name": "ipython",
    "version": 3
   },
   "file_extension": ".py",
   "mimetype": "text/x-python",
   "name": "python",
   "nbconvert_exporter": "python",
   "pygments_lexer": "ipython3",
   "version": "3.9.7"
  }
 },
 "nbformat": 4,
 "nbformat_minor": 5
}
